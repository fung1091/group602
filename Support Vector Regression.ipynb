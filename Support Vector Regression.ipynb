{
 "cells": [
  {
   "cell_type": "code",
   "execution_count": 18,
   "metadata": {},
   "outputs": [
    {
     "data": {
      "text/plain": [
       "'\\nCreated on Sun Dec  3 19:46:47 2017\\n\\n@ Title: Machine learning in finance\\n\\nTeam member: Zhenni Xie,\\n\\n             Yun Mai,\\n\\n             Tze Fung Lung\\n             \\nPart - Support Vector Regression\\n           \\n'"
      ]
     },
     "execution_count": 18,
     "metadata": {},
     "output_type": "execute_result"
    }
   ],
   "source": [
    "\"\"\"\n",
    "Created on Sun Dec  3 19:46:47 2017\n",
    "\n",
    "@ Title: Machine learning in finance\n",
    "\n",
    "Team member: Zhenni Xie,\n",
    "\n",
    "             Yun Mai,\n",
    "\n",
    "             Tze Fung Lung\n",
    "             \n",
    "Part - Support Vector Regression\n",
    "           \n",
    "\"\"\""
   ]
  },
  {
   "cell_type": "code",
   "execution_count": 19,
   "metadata": {
    "collapsed": true
   },
   "outputs": [],
   "source": [
    "# Introduction: If the company profits go up, you make money, and if the company profits go down, you lose money.\n",
    "# Is there a way to utalize the price in the past to predict the prices? Yes, machine learning.\n",
    "\n",
    "# Install dependencies\n",
    "\n",
    "# csv will help us to load the data from csv file\n",
    "import csv\n",
    "\n",
    "# numpy will help us to perform calculation\n",
    "import numpy as np\n",
    "\n",
    "# matplotlib will help us plot the model on graph\n",
    "import matplotlib.pyplot as plt\n",
    "\n",
    "# sklearn will help to build the predicted model\n",
    "from sklearn.svm import SVR\n"
   ]
  },
  {
   "cell_type": "code",
   "execution_count": 20,
   "metadata": {},
   "outputs": [
    {
     "name": "stdout",
     "output_type": "stream",
     "text": [
      "(118.50228680075672, 124.18285714291935, 125.43333337283482)\n"
     ]
    }
   ],
   "source": [
    "# last 30 days historical data for AAPL, three models are built, and they are Linear Model and Polynomial Model to compare the results\n",
    "\n",
    "# Create a list for dates and prices\n",
    "dates = []\n",
    "prices = []\n",
    "\n",
    "# \n",
    "\n",
    "def get_data(filename):\n",
    "\twith open(filename, 'r') as csvfile:\n",
    "\t\tcsvFileReader = csv.reader(csvfile)\n",
    "\t\tnext(csvFileReader)\t# skip the first row\n",
    "\t\tfor row in csvFileReader:\n",
    "\t\t\tdates.append(int(row[0].split('-')[0]))\n",
    "\t\t\tprices.append(float(row[1]))\n",
    "\treturn\n",
    "\n",
    "\n",
    "def predict_price(dates, prices, x):\n",
    "\tdates = np.reshape(dates,(len(dates), 1))\n",
    "\n",
    "\tsvr_lin = SVR(kernel= 'linear', C= 1e3) # Linear Regression\n",
    "\tsvr_poly = SVR(kernel= 'poly', C= 1e3, degree= 2) # Polynomical \n",
    "\tsvr_rbf = SVR(kernel= 'rbf', C= 1e3, gamma= 0.1) # RBF\n",
    "\tsvr_rbf.fit(dates, prices) \n",
    "\tsvr_lin.fit(dates, prices)\n",
    "\tsvr_poly.fit(dates, prices)\n",
    "\n",
    "\tplt.scatter(dates, prices, color= 'black', label= 'Data') \n",
    "\tplt.plot(dates, svr_rbf.predict(dates), color= 'red', label= 'RBF model') # Plot RBF\n",
    "\tplt.plot(dates,svr_lin.predict(dates), color= 'green', label= 'Linear model') # plot linear\n",
    "\tplt.plot(dates,svr_poly.predict(dates), color= 'blue', label= 'Polynomial model') # plot polynomial\n",
    "\tplt.xlabel('Date')\n",
    "\tplt.ylabel('Price')\n",
    "\tplt.title('Support Vector Regression')\n",
    "\tplt.legend()\n",
    "\tplt.savefig('stocks.png') # Save a image named stocks\n",
    "\n",
    "\treturn svr_rbf.predict(x)[0], svr_lin.predict(x)[0], svr_poly.predict(x)[0]\n",
    "\n",
    "\n",
    "get_data('aapl.csv') # Data Source: http://www.nasdaq.com/symbol/aapl/historical\n",
    "predict_price = predict_price(dates, prices,30)\n",
    "print(predict_price)\n",
    " \n",
    "# Conclusion: Three model were utalized for three historical stock price for past 30 days.From the plot, we can see that RBF model seems to fit \n",
    "#  our data the best. "
   ]
  }
 ],
 "metadata": {
  "kernelspec": {
   "display_name": "Python 3",
   "language": "python",
   "name": "python3"
  },
  "language_info": {
   "codemirror_mode": {
    "name": "ipython",
    "version": 3
   },
   "file_extension": ".py",
   "mimetype": "text/x-python",
   "name": "python",
   "nbconvert_exporter": "python",
   "pygments_lexer": "ipython3",
   "version": "3.6.1"
  }
 },
 "nbformat": 4,
 "nbformat_minor": 2
}
